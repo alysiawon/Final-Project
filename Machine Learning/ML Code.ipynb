{
 "cells": [
  {
   "cell_type": "code",
   "execution_count": 1,
   "id": "89214636",
   "metadata": {},
   "outputs": [],
   "source": [
    "# Import our dependencies\n",
    "from sklearn.model_selection import train_test_split\n",
    "from sklearn.preprocessing import StandardScaler,MinMaxScaler\n",
    "from sklearn.linear_model import LinearRegression\n",
    "from sklearn import linear_model\n",
    "import matplotlib.pyplot as plt\n",
    "import numpy as np\n",
    "import pandas as pd"
   ]
  },
  {
   "cell_type": "code",
   "execution_count": 2,
   "id": "e1049f8b",
   "metadata": {},
   "outputs": [
    {
     "data": {
      "text/html": [
       "<div>\n",
       "<style scoped>\n",
       "    .dataframe tbody tr th:only-of-type {\n",
       "        vertical-align: middle;\n",
       "    }\n",
       "\n",
       "    .dataframe tbody tr th {\n",
       "        vertical-align: top;\n",
       "    }\n",
       "\n",
       "    .dataframe thead th {\n",
       "        text-align: right;\n",
       "    }\n",
       "</style>\n",
       "<table border=\"1\" class=\"dataframe\">\n",
       "  <thead>\n",
       "    <tr style=\"text-align: right;\">\n",
       "      <th></th>\n",
       "      <th>NOC</th>\n",
       "      <th>Year</th>\n",
       "      <th>GDP</th>\n",
       "      <th>Population</th>\n",
       "      <th>Medals</th>\n",
       "    </tr>\n",
       "  </thead>\n",
       "  <tbody>\n",
       "    <tr>\n",
       "      <th>0</th>\n",
       "      <td>USA</td>\n",
       "      <td>1960</td>\n",
       "      <td>5.430000e+11</td>\n",
       "      <td>180700000</td>\n",
       "      <td>34</td>\n",
       "    </tr>\n",
       "    <tr>\n",
       "      <th>1</th>\n",
       "      <td>USA</td>\n",
       "      <td>1964</td>\n",
       "      <td>6.860000e+11</td>\n",
       "      <td>191900000</td>\n",
       "      <td>38</td>\n",
       "    </tr>\n",
       "    <tr>\n",
       "      <th>2</th>\n",
       "      <td>USA</td>\n",
       "      <td>1968</td>\n",
       "      <td>9.430000e+11</td>\n",
       "      <td>200700000</td>\n",
       "      <td>45</td>\n",
       "    </tr>\n",
       "    <tr>\n",
       "      <th>3</th>\n",
       "      <td>USA</td>\n",
       "      <td>1972</td>\n",
       "      <td>1.280000e+12</td>\n",
       "      <td>209900000</td>\n",
       "      <td>48</td>\n",
       "    </tr>\n",
       "    <tr>\n",
       "      <th>4</th>\n",
       "      <td>USA</td>\n",
       "      <td>1976</td>\n",
       "      <td>1.870000e+12</td>\n",
       "      <td>218000000</td>\n",
       "      <td>49</td>\n",
       "    </tr>\n",
       "  </tbody>\n",
       "</table>\n",
       "</div>"
      ],
      "text/plain": [
       "   NOC  Year           GDP  Population  Medals\n",
       "0  USA  1960  5.430000e+11   180700000      34\n",
       "1  USA  1964  6.860000e+11   191900000      38\n",
       "2  USA  1968  9.430000e+11   200700000      45\n",
       "3  USA  1972  1.280000e+12   209900000      48\n",
       "4  USA  1976  1.870000e+12   218000000      49"
      ]
     },
     "execution_count": 2,
     "metadata": {},
     "output_type": "execute_result"
    }
   ],
   "source": [
    "# Import and read the cvs file.\n",
    "import pandas as pd \n",
    "medal_info = pd.read_csv(\"Resources/Regression Data.csv\")\n",
    "medal_info.head()"
   ]
  },
  {
   "cell_type": "code",
   "execution_count": 3,
   "id": "9791b50b",
   "metadata": {},
   "outputs": [],
   "source": [
    "# Setting up the independent variable and dependent variable\n",
    "X = pd.get_dummies(medal_info[['NOC']])\n",
    "X['GDP'] = medal_info['GDP']\n",
    "X['Population'] = medal_info['Population']\n",
    "y = medal_info['Medals']"
   ]
  },
  {
   "cell_type": "code",
   "execution_count": 4,
   "id": "265b877a",
   "metadata": {},
   "outputs": [],
   "source": [
    "# Setting up the model training and testing group\n",
    "from sklearn.model_selection import train_test_split\n",
    "X_train, X_test, y_train, y_test = train_test_split(X,y,random_state=2)"
   ]
  },
  {
   "cell_type": "code",
   "execution_count": 5,
   "id": "73b97472",
   "metadata": {},
   "outputs": [
    {
     "name": "stderr",
     "output_type": "stream",
     "text": [
      "C:\\Users\\Doris\\anaconda3\\envs\\mlenv\\lib\\site-packages\\ipykernel_launcher.py:4: SettingWithCopyWarning: \n",
      "A value is trying to be set on a copy of a slice from a DataFrame.\n",
      "Try using .loc[row_indexer,col_indexer] = value instead\n",
      "\n",
      "See the caveats in the documentation: https://pandas.pydata.org/pandas-docs/stable/user_guide/indexing.html#returning-a-view-versus-a-copy\n",
      "  after removing the cwd from sys.path.\n",
      "C:\\Users\\Doris\\anaconda3\\envs\\mlenv\\lib\\site-packages\\pandas\\core\\indexing.py:1738: SettingWithCopyWarning: \n",
      "A value is trying to be set on a copy of a slice from a DataFrame.\n",
      "Try using .loc[row_indexer,col_indexer] = value instead\n",
      "\n",
      "See the caveats in the documentation: https://pandas.pydata.org/pandas-docs/stable/user_guide/indexing.html#returning-a-view-versus-a-copy\n",
      "  self._setitem_single_column(loc, value[:, i].tolist(), pi)\n",
      "C:\\Users\\Doris\\anaconda3\\envs\\mlenv\\lib\\site-packages\\ipykernel_launcher.py:5: SettingWithCopyWarning: \n",
      "A value is trying to be set on a copy of a slice from a DataFrame.\n",
      "Try using .loc[row_indexer,col_indexer] = value instead\n",
      "\n",
      "See the caveats in the documentation: https://pandas.pydata.org/pandas-docs/stable/user_guide/indexing.html#returning-a-view-versus-a-copy\n",
      "  \"\"\"\n",
      "C:\\Users\\Doris\\anaconda3\\envs\\mlenv\\lib\\site-packages\\pandas\\core\\indexing.py:1738: SettingWithCopyWarning: \n",
      "A value is trying to be set on a copy of a slice from a DataFrame.\n",
      "Try using .loc[row_indexer,col_indexer] = value instead\n",
      "\n",
      "See the caveats in the documentation: https://pandas.pydata.org/pandas-docs/stable/user_guide/indexing.html#returning-a-view-versus-a-copy\n",
      "  self._setitem_single_column(loc, value[:, i].tolist(), pi)\n"
     ]
    }
   ],
   "source": [
    "# Normalizing the variables\n",
    "scaler = MinMaxScaler()\n",
    "cols_to_norm = ['GDP','Population']\n",
    "X_train[cols_to_norm] = scaler.fit_transform(X_train[cols_to_norm])\n",
    "X_test[cols_to_norm] = scaler.transform(X_test[cols_to_norm])"
   ]
  },
  {
   "cell_type": "code",
   "execution_count": 6,
   "id": "3d224d73",
   "metadata": {},
   "outputs": [
    {
     "data": {
      "text/plain": [
       "LinearRegression()"
      ]
     },
     "execution_count": 6,
     "metadata": {},
     "output_type": "execute_result"
    }
   ],
   "source": [
    "reg = linear_model.LinearRegression()\n",
    "reg.fit(medal_info[['GDP','Population']], medal_info.Medals)"
   ]
  },
  {
   "cell_type": "code",
   "execution_count": 7,
   "id": "6b1903de",
   "metadata": {},
   "outputs": [
    {
     "data": {
      "text/plain": [
       "array([1.91822104e-12, 1.01431335e-08])"
      ]
     },
     "execution_count": 7,
     "metadata": {},
     "output_type": "execute_result"
    }
   ],
   "source": [
    "# Generating the coefficients for the regression\n",
    "reg.coef_"
   ]
  },
  {
   "cell_type": "code",
   "execution_count": 8,
   "id": "c465ca62",
   "metadata": {},
   "outputs": [
    {
     "data": {
      "text/plain": [
       "8.534067417575553"
      ]
     },
     "execution_count": 8,
     "metadata": {},
     "output_type": "execute_result"
    }
   ],
   "source": [
    "# Generating the intercept for the regression\n",
    "reg.intercept_"
   ]
  },
  {
   "cell_type": "code",
   "execution_count": 9,
   "id": "3a2bdc4a",
   "metadata": {},
   "outputs": [
    {
     "data": {
      "text/plain": [
       "array([28.02362499])"
      ]
     },
     "execution_count": 9,
     "metadata": {},
     "output_type": "execute_result"
    }
   ],
   "source": [
    "# Making a prediction\n",
    "reg.predict([[5930000000000,800000000]])"
   ]
  },
  {
   "cell_type": "code",
   "execution_count": 10,
   "id": "300f0184",
   "metadata": {},
   "outputs": [
    {
     "data": {
      "image/png": "[encoded data removed]",
      "text/plain": [
       "<Figure size 432x288 with 1 Axes>"
      ]
     },
     "metadata": {
      "needs_background": "light"
     },
     "output_type": "display_data"
    }
   ],
   "source": [
    "# Ploting the relationship between number of medals gold won and GDP of the country\n",
    "plt.scatter(medal_info.GDP, medal_info.Medals, c=\"purple\", alpha=0.9)\n",
    "plt.xlabel(\"GDP of the year in USD\")\n",
    "plt.ylabel(\"Number of gold medals\")\n",
    "plt.grid(True)\n",
    "z = np.polyfit(medal_info.GDP, medal_info.Medals, 1)\n",
    "p = np.poly1d(z)\n",
    "plt.plot(medal_info.GDP, p(medal_info.GDP), \"g--\")\n",
    "plt.show()"
   ]
  },
  {
   "cell_type": "code",
   "execution_count": 11,
   "id": "20f584f0",
   "metadata": {},
   "outputs": [
    {
     "data": {
      "image/png": "[encoded data removed]",
      "text/plain": [
       "<Figure size 432x288 with 1 Axes>"
      ]
     },
     "metadata": {
      "needs_background": "light"
     },
     "output_type": "display_data"
    }
   ],
   "source": [
    "#Ploting the relationship between number of medals won and populationship of the country\n",
    "plt.scatter(medal_info.Population, medal_info.Medals, c='blue', alpha=0.9)\n",
    "plt.xlabel(\"Number of population\")\n",
    "plt.ylabel(\"Number of gold medals\")\n",
    "plt.grid(True)\n",
    "z = np.polyfit(medal_info.Population, medal_info.Medals, 1)\n",
    "p = np.poly1d(z)\n",
    "plt.plot(medal_info.Population, p(medal_info.Population), \"g--\")\n",
    "plt.show()"
   ]
  },
  {
   "cell_type": "code",
   "execution_count": 12,
   "id": "efe8ff30",
   "metadata": {},
   "outputs": [
    {
     "name": "stdout",
     "output_type": "stream",
     "text": [
      "0.8397421128199004\n",
      "0.6834017174397778\n"
     ]
    }
   ],
   "source": [
    "# Calculating the accuracy rate of the model\n",
    "reg.fit(X_train, y_train)\n",
    "print(reg.score(X_train, y_train))\n",
    "print(reg.score(X_test, y_test))"
   ]
  }
 ],
 "metadata": {
  "kernelspec": {
   "display_name": "mlenv",
   "language": "python",
   "name": "mlenv"
  },
  "language_info": {
   "codemirror_mode": {
    "name": "ipython",
    "version": 3
   },
   "file_extension": ".py",
   "mimetype": "text/x-python",
   "name": "python",
   "nbconvert_exporter": "python",
   "pygments_lexer": "ipython3",
   "version": "3.7.10"
  }
 },
 "nbformat": 4,
 "nbformat_minor": 5
}
